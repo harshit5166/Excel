{
 "cells": [
  {
   "cell_type": "code",
   "execution_count": null,
   "id": "6ee7db5d-6595-4873-9109-59145e2c1fab",
   "metadata": {
    "colab": {
     "base_uri": "https://localhost:8080/"
    },
    "id": "6ee7db5d-6595-4873-9109-59145e2c1fab",
    "outputId": "1fa10fbf-ab22-4cb4-fa46-4875e1cc3585"
   },
   "outputs": [
    {
     "name": "stdout",
     "output_type": "stream",
     "text": [
      "[1 2 3 4]\n"
     ]
    }
   ],
   "source": [
    "import numpy as np\n",
    "x=np.array([1,2,3,4])\n",
    "print(x)"
   ]
  },
  {
   "cell_type": "markdown",
   "id": "ZM3oZ8UNXcGJ",
   "metadata": {
    "id": "ZM3oZ8UNXcGJ"
   },
   "source": [
    "\n",
    "\n",
    "---\n",
    "\n",
    "\n",
    "\n",
    "---\n",
    "\n",
    "\n",
    "**Different Ways To Create Array**\n",
    "\n",
    "---\n",
    "\n",
    "\n",
    "\n",
    "---\n",
    "\n"
   ]
  },
  {
   "cell_type": "code",
   "execution_count": null,
   "id": "c5f53e3e-3ffe-4311-8052-ceec84014c61",
   "metadata": {
    "id": "c5f53e3e-3ffe-4311-8052-ceec84014c61",
    "outputId": "8d363b2c-5ec3-4fa2-f574-184bc19887df"
   },
   "outputs": [
    {
     "name": "stdout",
     "output_type": "stream",
     "text": [
      "[10 20 30 40]\n"
     ]
    }
   ],
   "source": [
    "a=np.array([10,20,30,40])\n",
    "print(a)"
   ]
  },
  {
   "cell_type": "code",
   "execution_count": null,
   "id": "2aba4bc1-19f0-4152-a050-5a545c30d8f0",
   "metadata": {
    "id": "2aba4bc1-19f0-4152-a050-5a545c30d8f0",
    "outputId": "fb122196-3cb2-442f-d9b2-fdfbf7ad2eec"
   },
   "outputs": [
    {
     "name": "stdout",
     "output_type": "stream",
     "text": [
      "[10 20 30 40]\n",
      "<class 'numpy.ndarray'>\n"
     ]
    }
   ],
   "source": [
    "a=np.array([10,20,30,40])\n",
    "print(a)\n",
    "print(type(a))"
   ]
  },
  {
   "cell_type": "code",
   "execution_count": null,
   "id": "95301e66-0982-472c-8aa2-cd42c42d52b5",
   "metadata": {
    "id": "95301e66-0982-472c-8aa2-cd42c42d52b5",
    "outputId": "57f5ef4c-63ea-44fa-aab4-8e65196c0e52"
   },
   "outputs": [
    {
     "name": "stdout",
     "output_type": "stream",
     "text": [
      "663 ns ± 26 ns per loop (mean ± std. dev. of 7 runs, 1,000,000 loops each)\n"
     ]
    }
   ],
   "source": [
    "%timeit [j**2 for j in range(1,9)]"
   ]
  },
  {
   "cell_type": "code",
   "execution_count": null,
   "id": "ddacff00-ed5f-4054-a8b3-3812321074b6",
   "metadata": {
    "id": "ddacff00-ed5f-4054-a8b3-3812321074b6",
    "outputId": "402e4807-d136-472d-dace-2af685c224a7"
   },
   "outputs": [
    {
     "name": "stdout",
     "output_type": "stream",
     "text": [
      "1.13 µs ± 48.7 ns per loop (mean ± std. dev. of 7 runs, 1,000,000 loops each)\n"
     ]
    }
   ],
   "source": [
    "%timeit np.arange(1,9)**2\n",
    "########   arrays are  faster to load and process than list or any other set  #########"
   ]
  },
  {
   "cell_type": "code",
   "execution_count": null,
   "id": "d71a40bd-d842-4788-b4e7-5f3e07ec9312",
   "metadata": {
    "id": "d71a40bd-d842-4788-b4e7-5f3e07ec9312",
    "outputId": "1c83b6b1-48a4-4c57-e4f5-3af845e2edcc"
   },
   "outputs": [
    {
     "name": "stdout",
     "output_type": "stream",
     "text": [
      "[1 2 3 4]\n"
     ]
    }
   ],
   "source": [
    "arr=np.array([1,2,3,4])\n",
    "print(arr)"
   ]
  },
  {
   "cell_type": "code",
   "execution_count": null,
   "id": "da9242e8-3b8f-4791-9b5b-b31c28052926",
   "metadata": {
    "id": "da9242e8-3b8f-4791-9b5b-b31c28052926",
    "outputId": "4422385e-6c85-4a99-8dda-4ad966ea995d"
   },
   "outputs": [
    {
     "name": "stdout",
     "output_type": "stream",
     "text": [
      "[10, 20, 30, 40]\n",
      "[10 20 30 40]\n"
     ]
    }
   ],
   "source": [
    "l=[10,20,30,40]\n",
    "arr=np.array(l)\n",
    "print(l)\n",
    "print(arr)"
   ]
  },
  {
   "cell_type": "code",
   "execution_count": null,
   "id": "6e2e1a6b-b680-42ca-b1d0-ad1e578d5048",
   "metadata": {
    "id": "6e2e1a6b-b680-42ca-b1d0-ad1e578d5048",
    "outputId": "166c0ec9-01b6-4567-c0a0-69c9e560d80c"
   },
   "outputs": [
    {
     "name": "stdout",
     "output_type": "stream",
     "text": [
      "(10, 20, 30, 40, 50)\n",
      "<class 'tuple'>\n",
      "[10 20 30 40 50]\n",
      "<class 'numpy.ndarray'>\n"
     ]
    }
   ],
   "source": [
    "t=(10,20,30,40,50)\n",
    "arr=np.array(t)\n",
    "print(t)\n",
    "print(type(t))\n",
    "print(arr)\n",
    "print(type(arr))"
   ]
  },
  {
   "cell_type": "code",
   "execution_count": null,
   "id": "38bce2ac-413a-489f-ac37-f68d9a62f0d6",
   "metadata": {
    "id": "38bce2ac-413a-489f-ac37-f68d9a62f0d6",
    "outputId": "dcf217f8-1866-4ebe-cd38-39d34cac07a3"
   },
   "outputs": [
    {
     "name": "stdout",
     "output_type": "stream",
     "text": [
      "[ 1  2  3  4  5  6  7  8  9 10 11]\n"
     ]
    }
   ],
   "source": [
    "arr=np.arange(1,12)\n",
    "print(arr)"
   ]
  },
  {
   "cell_type": "code",
   "execution_count": null,
   "id": "1938ce43-8c73-45c4-8020-ce14b721dd12",
   "metadata": {
    "id": "1938ce43-8c73-45c4-8020-ce14b721dd12"
   },
   "outputs": [],
   "source": [
    "########Special Type of Array#####"
   ]
  },
  {
   "cell_type": "code",
   "execution_count": null,
   "id": "d5760aac-8c9c-49d7-bb9e-ea4f03facfc7",
   "metadata": {
    "id": "d5760aac-8c9c-49d7-bb9e-ea4f03facfc7",
    "outputId": "fd28090c-893e-4357-eac7-12aa57e8f4b2"
   },
   "outputs": [
    {
     "name": "stdout",
     "output_type": "stream",
     "text": [
      "[0. 0. 0. 0. 0.]\n"
     ]
    }
   ],
   "source": [
    "arr_zero=np.zeros(5)\n",
    "print(arr_zero)"
   ]
  },
  {
   "cell_type": "code",
   "execution_count": null,
   "id": "2fb9708b-6272-4025-9586-5858248b0e7c",
   "metadata": {
    "id": "2fb9708b-6272-4025-9586-5858248b0e7c",
    "outputId": "74a3c863-719a-4185-bc7e-08a56e8f576a"
   },
   "outputs": [
    {
     "name": "stdout",
     "output_type": "stream",
     "text": [
      "[[0. 0.]\n",
      " [0. 0.]]\n"
     ]
    }
   ],
   "source": [
    "arr_zero=np.zeros((2,2))\n",
    "print(arr_zero)"
   ]
  },
  {
   "cell_type": "code",
   "execution_count": null,
   "id": "c5bdf554-61f2-4bba-9234-ce0642baa1f1",
   "metadata": {
    "id": "c5bdf554-61f2-4bba-9234-ce0642baa1f1",
    "outputId": "3da5bdbf-fc63-453e-a694-9c008afe6aee"
   },
   "outputs": [
    {
     "name": "stdout",
     "output_type": "stream",
     "text": [
      "[[0. 0. 0. 0.]\n",
      " [0. 0. 0. 0.]\n",
      " [0. 0. 0. 0.]\n",
      " [0. 0. 0. 0.]\n",
      " [0. 0. 0. 0.]]\n"
     ]
    }
   ],
   "source": [
    "arr_zero=np.zeros((5,4))\n",
    "print(arr_zero)"
   ]
  },
  {
   "cell_type": "code",
   "execution_count": null,
   "id": "0c6bcfc8-ccf3-4292-9805-b2a4a7c39d9d",
   "metadata": {
    "id": "0c6bcfc8-ccf3-4292-9805-b2a4a7c39d9d",
    "outputId": "e2e6f5b0-e756-4b2d-8e4d-4c948e61cc25"
   },
   "outputs": [
    {
     "name": "stdout",
     "output_type": "stream",
     "text": [
      "[[1. 1. 1. 1.]\n",
      " [1. 1. 1. 1.]\n",
      " [1. 1. 1. 1.]\n",
      " [1. 1. 1. 1.]\n",
      " [1. 1. 1. 1.]]\n"
     ]
    }
   ],
   "source": [
    "arr_one=np.ones((5,4))\n",
    "print(arr_one)"
   ]
  },
  {
   "cell_type": "code",
   "execution_count": null,
   "id": "2c7809e9-f415-4113-bdf5-bfc6ce23ae3e",
   "metadata": {
    "id": "2c7809e9-f415-4113-bdf5-bfc6ce23ae3e",
    "outputId": "fca3d10c-ffab-4918-97cc-f4a7e04884e5"
   },
   "outputs": [
    {
     "name": "stdout",
     "output_type": "stream",
     "text": [
      "[0. 0. 0. 0.]\n"
     ]
    }
   ],
   "source": [
    "arr_empty=np.empty(4)\n",
    "print(arr_empty)"
   ]
  },
  {
   "cell_type": "code",
   "execution_count": null,
   "id": "7753d13f-6bd9-4460-9cc7-f1e50b5ddc80",
   "metadata": {
    "id": "7753d13f-6bd9-4460-9cc7-f1e50b5ddc80",
    "outputId": "2b2aea20-9a68-4850-dc43-00c7744d76d5"
   },
   "outputs": [
    {
     "name": "stdout",
     "output_type": "stream",
     "text": [
      "[[1. 0. 0. 0. 0.]\n",
      " [0. 1. 0. 0. 0.]\n",
      " [0. 0. 1. 0. 0.]\n",
      " [0. 0. 0. 1. 0.]\n",
      " [0. 0. 0. 0. 1.]]\n"
     ]
    }
   ],
   "source": [
    "arr_dia=np.eye(5)\n",
    "print(arr_dia)\n",
    "\n",
    "##########   eye() --> Identity Matrix   #########"
   ]
  },
  {
   "cell_type": "code",
   "execution_count": null,
   "id": "2ebd13c0-b649-4e5e-8794-fe1baa22026f",
   "metadata": {
    "id": "2ebd13c0-b649-4e5e-8794-fe1baa22026f",
    "outputId": "1596e4b4-9e47-47cb-ae78-ad23ffef6d53"
   },
   "outputs": [
    {
     "name": "stdout",
     "output_type": "stream",
     "text": [
      "[ 0.   2.5  5.   7.5 10. ]\n"
     ]
    }
   ],
   "source": [
    "arr_lin=np.linspace(0,10, num=5)\n",
    "print(arr_lin)"
   ]
  },
  {
   "cell_type": "code",
   "execution_count": null,
   "id": "ec8e1424-b773-4551-b5bf-a1f9be064ab6",
   "metadata": {
    "id": "ec8e1424-b773-4551-b5bf-a1f9be064ab6",
    "outputId": "5b29b0f6-7898-4b0b-93bd-580c72e00742"
   },
   "outputs": [
    {
     "name": "stdout",
     "output_type": "stream",
     "text": [
      "[1 2 3 4 5 6]\n",
      "[[1 2 3]\n",
      " [4 5 6]]\n"
     ]
    }
   ],
   "source": [
    "arr=np.arange(1,7)\n",
    "print(arr)\n",
    "reshaped_arr=arr.reshape(2,3)\n",
    "print(reshaped_arr)"
   ]
  },
  {
   "cell_type": "code",
   "execution_count": null,
   "id": "eded8544-ea80-4055-ad31-0ec65a07b16c",
   "metadata": {
    "id": "eded8544-ea80-4055-ad31-0ec65a07b16c",
    "outputId": "3ad18c7b-5892-4269-c9d3-da3b7e7ac846"
   },
   "outputs": [
    {
     "name": "stdout",
     "output_type": "stream",
     "text": [
      "[ 1  2  3  4  5  6  7  8  9 10 11 12 13 14 15 16 17 18 19 20 21 22 23 24]\n",
      "[[ 1  2  3  4  5  6]\n",
      " [ 7  8  9 10 11 12]\n",
      " [13 14 15 16 17 18]\n",
      " [19 20 21 22 23 24]]\n"
     ]
    }
   ],
   "source": [
    "arr=np.arange(1,25)\n",
    "print(arr)\n",
    "reshaped_arr=arr.reshape(4,6)\n",
    "print(reshaped_arr)\n",
    "\n",
    "############ total number of values in both the arrays must be same ##########"
   ]
  },
  {
   "cell_type": "code",
   "execution_count": null,
   "id": "b8ababc6-3c18-4792-9564-e7d46b2c9e5b",
   "metadata": {
    "id": "b8ababc6-3c18-4792-9564-e7d46b2c9e5b",
    "outputId": "bbfe4cde-2478-4bb5-fb89-33f8a0b0a737"
   },
   "outputs": [
    {
     "name": "stdout",
     "output_type": "stream",
     "text": [
      "[ 1  2  3  4  5  6  7  8  9 10 11 12 13 14 15 16 17 18 19 20 21 22 23 24]\n",
      "[[[ 1  2  3  4]\n",
      "  [ 5  6  7  8]\n",
      "  [ 9 10 11 12]]\n",
      "\n",
      " [[13 14 15 16]\n",
      "  [17 18 19 20]\n",
      "  [21 22 23 24]]]\n"
     ]
    }
   ],
   "source": [
    "arr=np.arange(1,25)\n",
    "print(arr)\n",
    "reshaped_3Darr=arr.reshape(2,3,4)\n",
    "print(reshaped_3Darr)"
   ]
  },
  {
   "cell_type": "code",
   "execution_count": null,
   "id": "10e79733-ba69-430b-b1a9-0f1fe0ce79bd",
   "metadata": {
    "id": "10e79733-ba69-430b-b1a9-0f1fe0ce79bd",
    "outputId": "dea2afe6-6f06-4c51-991c-15605a2a2dfa"
   },
   "outputs": [
    {
     "name": "stdout",
     "output_type": "stream",
     "text": [
      "[[5. 0. 0.]\n",
      " [0. 5. 0.]\n",
      " [0. 0. 5.]]\n"
     ]
    }
   ],
   "source": [
    "arr=np.eye(3)*5\n",
    "print(arr)"
   ]
  },
  {
   "cell_type": "code",
   "execution_count": null,
   "id": "edb0220b-381e-4021-a1a7-2089dd089558",
   "metadata": {
    "id": "edb0220b-381e-4021-a1a7-2089dd089558",
    "outputId": "24e7d432-9aad-424d-aedf-845472e27a99"
   },
   "outputs": [
    {
     "name": "stdout",
     "output_type": "stream",
     "text": [
      "[[1 2 3]\n",
      " [4 5 6]]\n"
     ]
    }
   ],
   "source": [
    "a=np.arange(1,7).reshape(2,3)\n",
    "print(a)"
   ]
  },
  {
   "cell_type": "code",
   "execution_count": null,
   "id": "a265fd88-2f80-4300-b475-6a9d41e1fa66",
   "metadata": {
    "id": "a265fd88-2f80-4300-b475-6a9d41e1fa66",
    "outputId": "0b4670e9-64fa-4751-92c2-d66f257f7b9e"
   },
   "outputs": [
    {
     "name": "stdout",
     "output_type": "stream",
     "text": [
      "[[ 7  8  9]\n",
      " [10 11 12]]\n"
     ]
    }
   ],
   "source": [
    "b=np.arange(7,13).reshape(2,3)\n",
    "print(b)"
   ]
  },
  {
   "cell_type": "code",
   "execution_count": null,
   "id": "960df46e-5bbd-4dd0-9e43-f02ae874e009",
   "metadata": {
    "id": "960df46e-5bbd-4dd0-9e43-f02ae874e009",
    "outputId": "0ab67cf8-002f-41e0-9122-40c73f662885"
   },
   "outputs": [
    {
     "name": "stdout",
     "output_type": "stream",
     "text": [
      "[[ 1  2  3]\n",
      " [ 4  5  6]\n",
      " [ 7  8  9]\n",
      " [10 11 12]]\n"
     ]
    }
   ],
   "source": [
    "c=np.concatenate((a,b))\n",
    "print(c)"
   ]
  },
  {
   "cell_type": "code",
   "execution_count": null,
   "id": "525f2ee1-ee4d-4c54-8c51-b1eb8a04f90e",
   "metadata": {
    "id": "525f2ee1-ee4d-4c54-8c51-b1eb8a04f90e",
    "outputId": "aaaff801-2caa-4a2f-f818-862d069f1ad5"
   },
   "outputs": [
    {
     "name": "stdout",
     "output_type": "stream",
     "text": [
      "[[ 1  2  3  7  8  9]\n",
      " [ 4  5  6 10 11 12]]\n"
     ]
    }
   ],
   "source": [
    "c=np.concatenate((a,b),axis=1)\n",
    "print(c)"
   ]
  },
  {
   "cell_type": "code",
   "execution_count": null,
   "id": "598763b2-88bf-4bb2-9f94-9b7d2c112f6e",
   "metadata": {
    "colab": {
     "base_uri": "https://localhost:8080/"
    },
    "id": "598763b2-88bf-4bb2-9f94-9b7d2c112f6e",
    "outputId": "bcd5cc85-67a7-4dd1-bfd9-4f6619eb1d0b"
   },
   "outputs": [
    {
     "data": {
      "text/plain": [
       "1.0"
      ]
     },
     "execution_count": 4,
     "metadata": {},
     "output_type": "execute_result"
    }
   ],
   "source": [
    "import matplotlib.pyplot as plt\n",
    "plt.style.use(\"dark_background\")\n",
    "\n",
    "np.pi\n",
    "np.sin(np.pi/2)"
   ]
  },
  {
   "cell_type": "code",
   "execution_count": null,
   "id": "Ro14zsqWe0kh",
   "metadata": {
    "colab": {
     "base_uri": "https://localhost:8080/",
     "height": 522
    },
    "id": "Ro14zsqWe0kh",
    "outputId": "1c65f43b-4629-41f4-faae-960f2d616fc7"
   },
   "outputs": [
    {
     "data": {
      "image/png": "[encoded data removed]",
      "text/plain": [
       "<Figure size 600x600 with 1 Axes>"
      ]
     },
     "metadata": {},
     "output_type": "display_data"
    }
   ],
   "source": [
    "x=np.arange(1,11)\n",
    "y=np.arange(10,110,10)\n",
    "plt.figure(figsize=(6,6))\n",
    "plt.plot(x,y,'r--')\n",
    "plt.show()"
   ]
  },
  {
   "cell_type": "code",
   "execution_count": null,
   "id": "EtIMs2fpgH6M",
   "metadata": {
    "colab": {
     "base_uri": "https://localhost:8080/",
     "height": 545
    },
    "id": "EtIMs2fpgH6M",
    "outputId": "51d0f28c-6f1a-43ec-a7f1-3fc9f95a328e"
   },
   "outputs": [
    {
     "data": {
      "image/png": "[encoded data removed]",
      "text/plain": [
       "<Figure size 600x600 with 1 Axes>"
      ]
     },
     "metadata": {},
     "output_type": "display_data"
    }
   ],
   "source": [
    "x_tan=np.arange(0, 2*np .pi,0.1)\n",
    "y_tan=np.tan(x_tan)\n",
    "plt.figure(figsize=(6,6))\n",
    "plt.plot(x_tan,y_tan)\n",
    "plt.title('Tan Curve')\n",
    "plt.show( )\n",
    "\n",
    "\n"
   ]
  },
  {
   "cell_type": "code",
   "execution_count": null,
   "id": "PmWOonLpgvZ2",
   "metadata": {
    "colab": {
     "base_uri": "https://localhost:8080/",
     "height": 545
    },
    "id": "PmWOonLpgvZ2",
    "outputId": "aed5edd1-5ca6-424d-971e-eaca3dae56db"
   },
   "outputs": [
    {
     "data": {
      "image/png": "[encoded data removed]",
      "text/plain": [
       "<Figure size 600x600 with 1 Axes>"
      ]
     },
     "metadata": {},
     "output_type": "display_data"
    }
   ],
   "source": [
    "x_sin=np.arange(0, 2*np .pi,0.1)\n",
    "y_sin=np.sin(x_sin)\n",
    "plt.figure(figsize=(6,6))\n",
    "plt.plot(x_sin,y_sin)\n",
    "plt.title('Sin Curve')\n",
    "plt.show( )"
   ]
  },
  {
   "cell_type": "code",
   "execution_count": null,
   "id": "6H6FYW0lgXtu",
   "metadata": {
    "colab": {
     "base_uri": "https://localhost:8080/",
     "height": 545
    },
    "id": "6H6FYW0lgXtu",
    "outputId": "7bce8c83-a50a-4eb0-9d23-4d765c3d98d3"
   },
   "outputs": [
    {
     "data": {
      "image/png": "[encoded data removed]",
      "text/plain": [
       "<Figure size 600x600 with 1 Axes>"
      ]
     },
     "metadata": {},
     "output_type": "display_data"
    }
   ],
   "source": [
    "x_cos=np.arange(0, 2*np .pi,0.1)\n",
    "y_cos=np.cos(x_sin)\n",
    "plt.figure(figsize=(6,6))\n",
    "plt.plot(x_cos,y_cos)\n",
    "plt.title('Cos Curve')\n",
    "plt.show( )"
   ]
  },
  {
   "cell_type": "code",
   "execution_count": null,
   "id": "6-ZoktjPg58s",
   "metadata": {
    "colab": {
     "base_uri": "https://localhost:8080/",
     "height": 562
    },
    "id": "6-ZoktjPg58s",
    "outputId": "33823891-3006-4002-bd62-759868c30a95"
   },
   "outputs": [
    {
     "data": {
      "text/plain": [
       "Text(0.5, 1.0, 'Cos_Curve')"
      ]
     },
     "execution_count": 15,
     "metadata": {},
     "output_type": "execute_result"
    },
    {
     "data": {
      "image/png": "[encoded data removed]",
      "text/plain": [
       "<Figure size 600x600 with 3 Axes>"
      ]
     },
     "metadata": {},
     "output_type": "display_data"
    }
   ],
   "source": [
    "plt.figure(figsize=(6,6))\n",
    "plt.subplot(2,2,1)\n",
    "plt.plot(x_sin,y_sin,'g-')\n",
    "plt.title(\"Sin_Curve\")\n",
    "plt.subplot(2,2,2)\n",
    "plt.plot(x_cos,y_cos,'r-')\n",
    "plt.title(\"Cos_Curve\")\n",
    "plt.subplot(2,2,3)\n",
    "plt.plot(x_cos,y_cos,'b-')\n",
    "plt.title(\"Cos_Curve\")\n"
   ]
  },
  {
   "cell_type": "code",
   "execution_count": 2,
   "id": "aFuSK4QBhkiD",
   "metadata": {
    "id": "aFuSK4QBhkiD"
   },
   "outputs": [],
   "source": [
    "import pandas as pd"
   ]
  },
  {
   "cell_type": "code",
   "execution_count": 3,
   "id": "N9Xj3BNoeZGr",
   "metadata": {
    "colab": {
     "base_uri": "https://localhost:8080/"
    },
    "id": "N9Xj3BNoeZGr",
    "outputId": "59083318-dae4-473d-ff32-9c38ba95abe4"
   },
   "outputs": [
    {
     "name": "stdout",
     "output_type": "stream",
     "text": [
      "[1, 2, 3, 4, 5, 6]\n"
     ]
    }
   ],
   "source": [
    "lst=[1,2,3,4,5,6]\n",
    "print(lst)"
   ]
  },
  {
   "cell_type": "code",
   "execution_count": 5,
   "id": "CU-nyvkRej2w",
   "metadata": {
    "colab": {
     "base_uri": "https://localhost:8080/"
    },
    "id": "CU-nyvkRej2w",
    "outputId": "0c8f7567-02bd-434b-9342-2fa9297a386c"
   },
   "outputs": [
    {
     "name": "stdout",
     "output_type": "stream",
     "text": [
      "0    1\n",
      "1    2\n",
      "2    3\n",
      "3    4\n",
      "4    5\n",
      "5    6\n",
      "dtype: int64\n",
      "<class 'pandas.core.series.Series'>\n"
     ]
    }
   ],
   "source": [
    "series=pd.Series(lst)\n",
    "print(series)\n",
    "print(type(series))"
   ]
  },
  {
   "cell_type": "code",
   "execution_count": 7,
   "id": "0PupmgHIezYS",
   "metadata": {
    "colab": {
     "base_uri": "https://localhost:8080/"
    },
    "id": "0PupmgHIezYS",
    "outputId": "92918fea-dc2e-4bd6-f740-618b91f4df24"
   },
   "outputs": [
    {
     "name": "stdout",
     "output_type": "stream",
     "text": [
      "10    1\n",
      "11    2\n",
      "12    3\n",
      "13    4\n",
      "14    5\n",
      "dtype: int64\n"
     ]
    }
   ],
   "source": [
    "series=pd.Series([1,2,3,4,5],index=[10,11,12,13,14])\n",
    "print(series)"
   ]
  },
  {
   "cell_type": "code",
   "execution_count": 8,
   "id": "GSAo12mbfd1C",
   "metadata": {
    "colab": {
     "base_uri": "https://localhost:8080/"
    },
    "id": "GSAo12mbfd1C",
    "outputId": "51619668-8682-4576-f8cf-69f846c8bb69"
   },
   "outputs": [
    {
     "data": {
      "text/plain": [
       "1    0.5\n",
       "2    0.5\n",
       "3    0.5\n",
       "dtype: float64"
      ]
     },
     "execution_count": 8,
     "metadata": {},
     "output_type": "execute_result"
    }
   ],
   "source": [
    "scalar_series = pd.Series(0.5, index=[1,2,3])\n",
    "scalar_series"
   ]
  },
  {
   "cell_type": "code",
   "execution_count": 10,
   "id": "RqXj4MxAf6L6",
   "metadata": {
    "colab": {
     "base_uri": "https://localhost:8080/"
    },
    "id": "RqXj4MxAf6L6",
    "outputId": "02414ce6-d616-49e9-a83d-9355e9040b90"
   },
   "outputs": [
    {
     "data": {
      "text/plain": [
       "p    1\n",
       "q    2\n",
       "r    3\n",
       "s    4\n",
       "dtype: int64"
      ]
     },
     "execution_count": 10,
     "metadata": {},
     "output_type": "execute_result"
    }
   ],
   "source": [
    "dict_series=pd.Series({\"p\":1,\"q\":2,\"r\":3,\"s\":4})\n",
    "dict_series"
   ]
  },
  {
   "cell_type": "code",
   "execution_count": 12,
   "id": "avRj2V9rgTUi",
   "metadata": {
    "colab": {
     "base_uri": "https://localhost:8080/"
    },
    "id": "avRj2V9rgTUi",
    "outputId": "011943ae-c539-4a72-b270-cdb8140f3f52"
   },
   "outputs": [
    {
     "data": {
      "text/plain": [
       "p    [1, 2, 3]\n",
       "q    [4, 5, 6]\n",
       "r    [7, 8, 9]\n",
       "dtype: object"
      ]
     },
     "execution_count": 12,
     "metadata": {},
     "output_type": "execute_result"
    }
   ],
   "source": [
    "dict_series=pd.Series({\"p\":[1,2,3],\"q\":[4,5,6],\"r\":[7,8,9]})\n",
    "dict_series"
   ]
  },
  {
   "cell_type": "code",
   "execution_count": 14,
   "id": "PWY1jC_oggnr",
   "metadata": {
    "colab": {
     "base_uri": "https://localhost:8080/"
    },
    "id": "PWY1jC_oggnr",
    "outputId": "611ac5d4-59fb-493c-e79a-5cae75895678"
   },
   "outputs": [
    {
     "name": "stdout",
     "output_type": "stream",
     "text": [
      "Empty DataFrame\n",
      "Columns: []\n",
      "Index: []\n"
     ]
    }
   ],
   "source": [
    "df=pd.DataFrame()\n",
    "print(df)"
   ]
  },
  {
   "cell_type": "code",
   "execution_count": 4,
   "id": "OXmHfz6gg44v",
   "metadata": {
    "colab": {
     "base_uri": "https://localhost:8080/"
    },
    "id": "OXmHfz6gg44v",
    "outputId": "add08089-f16f-47ea-e349-25c172105cc2"
   },
   "outputs": [
    {
     "name": "stdout",
     "output_type": "stream",
     "text": [
      "   0\n",
      "0  1\n",
      "1  2\n",
      "2  3\n",
      "3  4\n",
      "4  5\n",
      "5  6\n"
     ]
    }
   ],
   "source": [
    "df=pd.DataFrame(lst)\n",
    "print(df)"
   ]
  },
  {
   "cell_type": "code",
   "execution_count": null,
   "id": "NKDzJrFNhIy8",
   "metadata": {
    "id": "NKDzJrFNhIy8"
   },
   "outputs": [],
   "source": []
  }
 ],
 "metadata": {
  "colab": {
   "provenance": []
  },
  "kernelspec": {
   "display_name": "Python 3 (ipykernel)",
   "language": "python",
   "name": "python3"
  },
  "language_info": {
   "codemirror_mode": {
    "name": "ipython",
    "version": 3
   },
   "file_extension": ".py",
   "mimetype": "text/x-python",
   "name": "python",
   "nbconvert_exporter": "python",
   "pygments_lexer": "ipython3",
   "version": "3.11.7"
  }
 },
 "nbformat": 4,
 "nbformat_minor": 5
}
